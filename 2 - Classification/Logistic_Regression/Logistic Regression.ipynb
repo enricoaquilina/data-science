{
 "cells": [
  {
   "cell_type": "code",
   "execution_count": 71,
   "metadata": {},
   "outputs": [],
   "source": [
    "# Importing the libraries\n",
    "import numpy as np\n",
    "import matplotlib.pyplot as plt\n",
    "import pandas as pd\n",
    "from sklearn.model_selection import train_test_split\n",
    "from sklearn.preprocessing import StandardScaler\n",
    "from sklearn.metrics import confusion_matrix\n",
    "\n",
    "%matplotlib inline"
   ]
  },
  {
   "cell_type": "code",
   "execution_count": 72,
   "metadata": {},
   "outputs": [],
   "source": [
    "# Importing the dataset\n",
    "dataset = pd.read_csv('Social_Network_Ads.csv')\n",
    "X = dataset.iloc[:, [2,3]].values\n",
    "# y = dataset.iloc[:, -1].values\n",
    "y = dataset.iloc[:, 4].values"
   ]
  },
  {
   "cell_type": "code",
   "execution_count": 73,
   "metadata": {},
   "outputs": [],
   "source": [
    "# Splitting the dataset into training set and testing set\n",
    "X_train, X_test, y_train, y_test = train_test_split(X, y, test_size=0.25, random_state=0)"
   ]
  },
  {
   "cell_type": "code",
   "execution_count": 74,
   "metadata": {},
   "outputs": [],
   "source": [
    "# Feature Scaling\n",
    "sc_X = StandardScaler()\n",
    "X_train = sc_X.fit_transform(X_train)\n",
    "X_test = sc_X.transform(X_test)"
   ]
  },
  {
   "cell_type": "code",
   "execution_count": 75,
   "metadata": {},
   "outputs": [],
   "source": [
    "# Fitting our model to the training set\n",
    "from sklearn.linear_model import LogisticRegression\n",
    "classifier = LogisticRegression(random_state=0)\n",
    "classifier.fit(X_train, y_train);"
   ]
  },
  {
   "cell_type": "code",
   "execution_count": 76,
   "metadata": {},
   "outputs": [],
   "source": [
    "# Predicting the Test set results\n",
    "y_pred = classifier.predict(X_test)"
   ]
  },
  {
   "cell_type": "code",
   "execution_count": 77,
   "metadata": {},
   "outputs": [
    {
     "data": {
      "text/plain": [
       "array([[65,  3],\n",
       "       [ 8, 24]])"
      ]
     },
     "execution_count": 77,
     "metadata": {},
     "output_type": "execute_result"
    }
   ],
   "source": [
    "# Making the confusion matrix\n",
    "cm = confusion_matrix(y_test, y_pred)\n",
    "cm\n",
    "# you can also ravel it and extract the analytics separately\n",
    "# tn, fp, fn, tp = confusion_matrix(y_test, y_pred).ravel()"
   ]
  },
  {
   "cell_type": "code",
   "execution_count": 105,
   "metadata": {},
   "outputs": [
    {
     "data": {
      "image/png": "[encoded data removed]",
      "text/plain": [
       "<Figure size 432x288 with 1 Axes>"
      ]
     },
     "metadata": {
      "needs_background": "light"
     },
     "output_type": "display_data"
    }
   ],
   "source": [
    "# Visualising the test set results\n",
    "from matplotlib.colors import ListedColormap\n",
    "X_set, y_set = X_test, y_test\n",
    "# X_set, y_set = X_train, y_train\n",
    "\n",
    "X1, X2 = np.meshgrid(np.arange(start = X_set[:, 0].min() - 1, stop = X_set[:, 0].max() + 1, step = 0.01),\n",
    "                     np.arange(start = X_set[:, 1].min() - 1, stop = X_set[:, 1].max() + 1, step = 0.01))\n",
    "plt.contourf(X1, X2, classifier.predict(np.array([X1.ravel(), X2.ravel()]).T).reshape(X1.shape),\n",
    "             alpha = 0.75, cmap = ListedColormap(('orange', 'green')))\n",
    "plt.xlim(X1.min(), X1.max())\n",
    "plt.ylim(X2.min(), X2.max())\n",
    "for i, j in enumerate(np.unique(y_set)):\n",
    "    plt.scatter(X_set[y_set == j, 0], X_set[y_set == j, 1],\n",
    "                c = ListedColormap(('red', 'green'))(i), label = j)\n",
    "plt.title('Logistic Regression (Test set)')\n",
    "plt.xlabel('Age')\n",
    "plt.ylabel('Estimated Salary')\n",
    "plt.legend()\n",
    "plt.show()"
   ]
  },
  {
   "cell_type": "code",
   "execution_count": 91,
   "metadata": {},
   "outputs": [
    {
     "data": {
      "text/plain": [
       "(-1.9931891594584856, 2.166165495920269)"
      ]
     },
     "execution_count": 91,
     "metadata": {},
     "output_type": "execute_result"
    }
   ],
   "source": [
    "X_set[:, 0].min(), X_set[:, 0].max()"
   ]
  },
  {
   "cell_type": "code",
   "execution_count": 96,
   "metadata": {},
   "outputs": [
    {
     "data": {
      "text/plain": [
       "(-2.9931891594584856, 3.166165495920269)"
      ]
     },
     "execution_count": 96,
     "metadata": {},
     "output_type": "execute_result"
    }
   ],
   "source": [
    " X_set[:, 0].min()-1, X_set[:, 0].max()+1"
   ]
  },
  {
   "cell_type": "code",
   "execution_count": 98,
   "metadata": {},
   "outputs": [
    {
     "data": {
      "text/plain": [
       "array([-2.99318916, -2.98318916, -2.97318916, -2.96318916, -2.95318916,\n",
       "       -2.94318916, -2.93318916, -2.92318916, -2.91318916, -2.90318916,\n",
       "       -2.89318916, -2.88318916, -2.87318916, -2.86318916, -2.85318916,\n",
       "       -2.84318916, -2.83318916, -2.82318916, -2.81318916, -2.80318916,\n",
       "       -2.79318916, -2.78318916, -2.77318916, -2.76318916, -2.75318916,\n",
       "       -2.74318916, -2.73318916, -2.72318916, -2.71318916, -2.70318916,\n",
       "       -2.69318916, -2.68318916, -2.67318916, -2.66318916, -2.65318916,\n",
       "       -2.64318916, -2.63318916, -2.62318916, -2.61318916, -2.60318916,\n",
       "       -2.59318916, -2.58318916, -2.57318916, -2.56318916, -2.55318916,\n",
       "       -2.54318916, -2.53318916, -2.52318916, -2.51318916, -2.50318916,\n",
       "       -2.49318916, -2.48318916, -2.47318916, -2.46318916, -2.45318916,\n",
       "       -2.44318916, -2.43318916, -2.42318916, -2.41318916, -2.40318916,\n",
       "       -2.39318916, -2.38318916, -2.37318916, -2.36318916, -2.35318916,\n",
       "       -2.34318916, -2.33318916, -2.32318916, -2.31318916, -2.30318916,\n",
       "       -2.29318916, -2.28318916, -2.27318916, -2.26318916, -2.25318916,\n",
       "       -2.24318916, -2.23318916, -2.22318916, -2.21318916, -2.20318916,\n",
       "       -2.19318916, -2.18318916, -2.17318916, -2.16318916, -2.15318916,\n",
       "       -2.14318916, -2.13318916, -2.12318916, -2.11318916, -2.10318916,\n",
       "       -2.09318916, -2.08318916, -2.07318916, -2.06318916, -2.05318916,\n",
       "       -2.04318916, -2.03318916, -2.02318916, -2.01318916, -2.00318916,\n",
       "       -1.99318916, -1.98318916, -1.97318916, -1.96318916, -1.95318916,\n",
       "       -1.94318916, -1.93318916, -1.92318916, -1.91318916, -1.90318916,\n",
       "       -1.89318916, -1.88318916, -1.87318916, -1.86318916, -1.85318916,\n",
       "       -1.84318916, -1.83318916, -1.82318916, -1.81318916, -1.80318916,\n",
       "       -1.79318916, -1.78318916, -1.77318916, -1.76318916, -1.75318916,\n",
       "       -1.74318916, -1.73318916, -1.72318916, -1.71318916, -1.70318916,\n",
       "       -1.69318916, -1.68318916, -1.67318916, -1.66318916, -1.65318916,\n",
       "       -1.64318916, -1.63318916, -1.62318916, -1.61318916, -1.60318916,\n",
       "       -1.59318916, -1.58318916, -1.57318916, -1.56318916, -1.55318916,\n",
       "       -1.54318916, -1.53318916, -1.52318916, -1.51318916, -1.50318916,\n",
       "       -1.49318916, -1.48318916, -1.47318916, -1.46318916, -1.45318916,\n",
       "       -1.44318916, -1.43318916, -1.42318916, -1.41318916, -1.40318916,\n",
       "       -1.39318916, -1.38318916, -1.37318916, -1.36318916, -1.35318916,\n",
       "       -1.34318916, -1.33318916, -1.32318916, -1.31318916, -1.30318916,\n",
       "       -1.29318916, -1.28318916, -1.27318916, -1.26318916, -1.25318916,\n",
       "       -1.24318916, -1.23318916, -1.22318916, -1.21318916, -1.20318916,\n",
       "       -1.19318916, -1.18318916, -1.17318916, -1.16318916, -1.15318916,\n",
       "       -1.14318916, -1.13318916, -1.12318916, -1.11318916, -1.10318916,\n",
       "       -1.09318916, -1.08318916, -1.07318916, -1.06318916, -1.05318916,\n",
       "       -1.04318916, -1.03318916, -1.02318916, -1.01318916, -1.00318916,\n",
       "       -0.99318916, -0.98318916, -0.97318916, -0.96318916, -0.95318916,\n",
       "       -0.94318916, -0.93318916, -0.92318916, -0.91318916, -0.90318916,\n",
       "       -0.89318916, -0.88318916, -0.87318916, -0.86318916, -0.85318916,\n",
       "       -0.84318916, -0.83318916, -0.82318916, -0.81318916, -0.80318916,\n",
       "       -0.79318916, -0.78318916, -0.77318916, -0.76318916, -0.75318916,\n",
       "       -0.74318916, -0.73318916, -0.72318916, -0.71318916, -0.70318916,\n",
       "       -0.69318916, -0.68318916, -0.67318916, -0.66318916, -0.65318916,\n",
       "       -0.64318916, -0.63318916, -0.62318916, -0.61318916, -0.60318916,\n",
       "       -0.59318916, -0.58318916, -0.57318916, -0.56318916, -0.55318916,\n",
       "       -0.54318916, -0.53318916, -0.52318916, -0.51318916, -0.50318916,\n",
       "       -0.49318916, -0.48318916, -0.47318916, -0.46318916, -0.45318916,\n",
       "       -0.44318916, -0.43318916, -0.42318916, -0.41318916, -0.40318916,\n",
       "       -0.39318916, -0.38318916, -0.37318916, -0.36318916, -0.35318916,\n",
       "       -0.34318916, -0.33318916, -0.32318916, -0.31318916, -0.30318916,\n",
       "       -0.29318916, -0.28318916, -0.27318916, -0.26318916, -0.25318916,\n",
       "       -0.24318916, -0.23318916, -0.22318916, -0.21318916, -0.20318916,\n",
       "       -0.19318916, -0.18318916, -0.17318916, -0.16318916, -0.15318916,\n",
       "       -0.14318916, -0.13318916, -0.12318916, -0.11318916, -0.10318916,\n",
       "       -0.09318916, -0.08318916, -0.07318916, -0.06318916, -0.05318916,\n",
       "       -0.04318916, -0.03318916, -0.02318916, -0.01318916, -0.00318916,\n",
       "        0.00681084,  0.01681084,  0.02681084,  0.03681084,  0.04681084,\n",
       "        0.05681084,  0.06681084,  0.07681084,  0.08681084,  0.09681084,\n",
       "        0.10681084,  0.11681084,  0.12681084,  0.13681084,  0.14681084,\n",
       "        0.15681084,  0.16681084,  0.17681084,  0.18681084,  0.19681084,\n",
       "        0.20681084,  0.21681084,  0.22681084,  0.23681084,  0.24681084,\n",
       "        0.25681084,  0.26681084,  0.27681084,  0.28681084,  0.29681084,\n",
       "        0.30681084,  0.31681084,  0.32681084,  0.33681084,  0.34681084,\n",
       "        0.35681084,  0.36681084,  0.37681084,  0.38681084,  0.39681084,\n",
       "        0.40681084,  0.41681084,  0.42681084,  0.43681084,  0.44681084,\n",
       "        0.45681084,  0.46681084,  0.47681084,  0.48681084,  0.49681084,\n",
       "        0.50681084,  0.51681084,  0.52681084,  0.53681084,  0.54681084,\n",
       "        0.55681084,  0.56681084,  0.57681084,  0.58681084,  0.59681084,\n",
       "        0.60681084,  0.61681084,  0.62681084,  0.63681084,  0.64681084,\n",
       "        0.65681084,  0.66681084,  0.67681084,  0.68681084,  0.69681084,\n",
       "        0.70681084,  0.71681084,  0.72681084,  0.73681084,  0.74681084,\n",
       "        0.75681084,  0.76681084,  0.77681084,  0.78681084,  0.79681084,\n",
       "        0.80681084,  0.81681084,  0.82681084,  0.83681084,  0.84681084,\n",
       "        0.85681084,  0.86681084,  0.87681084,  0.88681084,  0.89681084,\n",
       "        0.90681084,  0.91681084,  0.92681084,  0.93681084,  0.94681084,\n",
       "        0.95681084,  0.96681084,  0.97681084,  0.98681084,  0.99681084,\n",
       "        1.00681084,  1.01681084,  1.02681084,  1.03681084,  1.04681084,\n",
       "        1.05681084,  1.06681084,  1.07681084,  1.08681084,  1.09681084,\n",
       "        1.10681084,  1.11681084,  1.12681084,  1.13681084,  1.14681084,\n",
       "        1.15681084,  1.16681084,  1.17681084,  1.18681084,  1.19681084,\n",
       "        1.20681084,  1.21681084,  1.22681084,  1.23681084,  1.24681084,\n",
       "        1.25681084,  1.26681084,  1.27681084,  1.28681084,  1.29681084,\n",
       "        1.30681084,  1.31681084,  1.32681084,  1.33681084,  1.34681084,\n",
       "        1.35681084,  1.36681084,  1.37681084,  1.38681084,  1.39681084,\n",
       "        1.40681084,  1.41681084,  1.42681084,  1.43681084,  1.44681084,\n",
       "        1.45681084,  1.46681084,  1.47681084,  1.48681084,  1.49681084,\n",
       "        1.50681084,  1.51681084,  1.52681084,  1.53681084,  1.54681084,\n",
       "        1.55681084,  1.56681084,  1.57681084,  1.58681084,  1.59681084,\n",
       "        1.60681084,  1.61681084,  1.62681084,  1.63681084,  1.64681084,\n",
       "        1.65681084,  1.66681084,  1.67681084,  1.68681084,  1.69681084,\n",
       "        1.70681084,  1.71681084,  1.72681084,  1.73681084,  1.74681084,\n",
       "        1.75681084,  1.76681084,  1.77681084,  1.78681084,  1.79681084,\n",
       "        1.80681084,  1.81681084,  1.82681084,  1.83681084,  1.84681084,\n",
       "        1.85681084,  1.86681084,  1.87681084,  1.88681084,  1.89681084,\n",
       "        1.90681084,  1.91681084,  1.92681084,  1.93681084,  1.94681084,\n",
       "        1.95681084,  1.96681084,  1.97681084,  1.98681084,  1.99681084,\n",
       "        2.00681084,  2.01681084,  2.02681084,  2.03681084,  2.04681084,\n",
       "        2.05681084,  2.06681084,  2.07681084,  2.08681084,  2.09681084,\n",
       "        2.10681084,  2.11681084,  2.12681084,  2.13681084,  2.14681084,\n",
       "        2.15681084,  2.16681084,  2.17681084,  2.18681084,  2.19681084,\n",
       "        2.20681084,  2.21681084,  2.22681084,  2.23681084,  2.24681084,\n",
       "        2.25681084,  2.26681084,  2.27681084,  2.28681084,  2.29681084,\n",
       "        2.30681084,  2.31681084,  2.32681084,  2.33681084,  2.34681084,\n",
       "        2.35681084,  2.36681084,  2.37681084,  2.38681084,  2.39681084,\n",
       "        2.40681084,  2.41681084,  2.42681084,  2.43681084,  2.44681084,\n",
       "        2.45681084,  2.46681084,  2.47681084,  2.48681084,  2.49681084,\n",
       "        2.50681084,  2.51681084,  2.52681084,  2.53681084,  2.54681084,\n",
       "        2.55681084,  2.56681084,  2.57681084,  2.58681084,  2.59681084,\n",
       "        2.60681084,  2.61681084,  2.62681084,  2.63681084,  2.64681084,\n",
       "        2.65681084,  2.66681084,  2.67681084,  2.68681084,  2.69681084,\n",
       "        2.70681084,  2.71681084,  2.72681084,  2.73681084,  2.74681084,\n",
       "        2.75681084,  2.76681084,  2.77681084,  2.78681084,  2.79681084,\n",
       "        2.80681084,  2.81681084,  2.82681084,  2.83681084,  2.84681084,\n",
       "        2.85681084,  2.86681084,  2.87681084,  2.88681084,  2.89681084,\n",
       "        2.90681084,  2.91681084,  2.92681084,  2.93681084,  2.94681084,\n",
       "        2.95681084,  2.96681084,  2.97681084,  2.98681084,  2.99681084,\n",
       "        3.00681084,  3.01681084,  3.02681084,  3.03681084,  3.04681084,\n",
       "        3.05681084,  3.06681084,  3.07681084,  3.08681084,  3.09681084,\n",
       "        3.10681084,  3.11681084,  3.12681084,  3.13681084,  3.14681084,\n",
       "        3.15681084])"
      ]
     },
     "execution_count": 98,
     "metadata": {},
     "output_type": "execute_result"
    }
   ],
   "source": [
    "np.arange( X_set[:, 0].min()-1, X_set[:, 0].max()+1, step=0.01)"
   ]
  },
  {
   "cell_type": "code",
   "execution_count": null,
   "metadata": {},
   "outputs": [],
   "source": []
  }
 ],
 "metadata": {
  "kernelspec": {
   "display_name": "Python 3",
   "language": "python",
   "name": "python3"
  },
  "language_info": {
   "codemirror_mode": {
    "name": "ipython",
    "version": 2
   },
   "file_extension": ".py",
   "mimetype": "text/x-python",
   "name": "python",
   "nbconvert_exporter": "python",
   "pygments_lexer": "ipython2",
   "version": "2.7.15+"
  }
 },
 "nbformat": 4,
 "nbformat_minor": 2
}
